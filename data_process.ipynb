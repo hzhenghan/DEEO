{
 "cells": [
  {
   "cell_type": "code",
   "execution_count": 1,
   "id": "initial_id",
   "metadata": {
    "collapsed": true,
    "ExecuteTime": {
     "end_time": "2024-01-22T12:40:52.140903600Z",
     "start_time": "2024-01-22T12:40:47.891113100Z"
    }
   },
   "outputs": [],
   "source": [
    "import numpy as np\n",
    "import os\n",
    "import os.path\n",
    "import pandas as pd\n",
    "import torch\n",
    "import xlrd\n",
    "import openpyxl\n",
    "from sklearn import preprocessing"
   ]
  },
  {
   "cell_type": "code",
   "execution_count": 10,
   "outputs": [],
   "source": [
    "def minmax(data) -> pd.DataFrame:\n",
    "    label_column = data['label']\n",
    "\n",
    "    normalized_data = data.drop(columns=['label'])\n",
    "\n",
    "    scaler = preprocessing.MinMaxScaler()\n",
    "    normalized_data = scaler.fit_transform(normalized_data)\n",
    "\n",
    "    columns = data.columns[:-1]\n",
    "    normalized_df = pd.DataFrame(normalized_data, columns=columns)\n",
    "\n",
    "    normalized_df['label'] = label_column.values\n",
    "\n",
    "    return normalized_df\n"
   ],
   "metadata": {
    "collapsed": false,
    "ExecuteTime": {
     "end_time": "2023-12-02T03:06:08.190526800Z",
     "start_time": "2023-12-02T03:06:08.177413Z"
    }
   },
   "id": "85f76d0e970b741b"
  },
  {
   "cell_type": "code",
   "execution_count": 11,
   "outputs": [],
   "source": [
    "import random\n",
    "\n",
    "use_cols = ['TWE_set',\n",
    "            'TEI', 'TWEI', 'TEO', 'TWEO', 'TCI', 'TWCI', 'TCO', 'TWCO',\n",
    "            'TSI', 'TSO', 'TBI', 'TBO', 'Cond Tons', 'Cooling Tons', 'Shared Cond Tons',\n",
    "            'Cond Energy Balance', 'Evap Tons', 'Shared Evap Tons', 'Building Tons',\n",
    "            'Evap Energy Balance', 'kW', 'COP', 'kW/Ton', 'FWC', 'FWE', 'TEA', 'TCA',\n",
    "            'TRE', 'PRE', 'TRC', 'PRC', 'TRC_sub', 'T_suc', 'Tsh_suc', 'TR_dis', 'Tsh_dis',\n",
    "            'P_lift', 'Amps', 'RLA%', 'Heat Balance%', 'Tolerance%',\n",
    "            'Unit Status', 'Active Fault', 'TO_sump', 'TO_feed', 'PO_feed', 'PO_net',\n",
    "            'TWCD', 'TWED', 'VSS', 'VSL', 'VH', 'VM', 'VC', 'VE', 'VW', 'TWI', 'TWO',\n",
    "            'THI', 'THO', 'FWW', 'FWH', 'FWB'\n",
    "            ]\n",
    "normal = pd.read_excel('data_chiller/Benchmark Tests/normal.xls', usecols=use_cols)\n",
    "fwc40 = pd.read_excel('data_chiller/Reduced condenser water flow/fwc40.xls', usecols=use_cols)\n",
    "fwe40 = pd.read_excel('data_chiller/Reduced evaporator water flow/fwe40.xls', usecols=use_cols)\n",
    "rl40 = pd.read_excel('data_chiller/Refrigerant leak/rl40.xls', usecols=use_cols)\n",
    "ro40 = pd.read_excel('data_chiller/Refrigerant overcharge/ro40.xls', usecols=use_cols)\n",
    "eo50 = pd.read_excel('data_chiller/Excess oil/eo50.xls', usecols=use_cols)\n",
    "cf45 = pd.read_excel('data_chiller/Condenser fouling/cf45.xls', usecols=use_cols)\n",
    "nc5 = pd.read_excel('data_chiller/Non-condensables in refrigerant/nc5.xls', usecols=use_cols)\n",
    "\n",
    "fault_data_all = [normal, fwc40, fwe40, rl40, ro40, eo50, cf45, nc5]\n",
    "random.shuffle(fault_data_all)\n",
    "\n",
    "for i, df in enumerate(fault_data_all):\n",
    "    df['label'] = i\n",
    "\n",
    "fault_data = pd.concat(fault_data_all, ignore_index=True)\n",
    "\n",
    "s_fault_data = fault_data[(fault_data['TWE_set'] == 40)]\n",
    "t_fault_data = fault_data[(fault_data['TWE_set'] == 50)]"
   ],
   "metadata": {
    "collapsed": false,
    "ExecuteTime": {
     "end_time": "2023-12-02T03:06:12.824236200Z",
     "start_time": "2023-12-02T03:06:08.935512700Z"
    }
   },
   "id": "25356de32a07fecb"
  },
  {
   "cell_type": "code",
   "execution_count": 12,
   "outputs": [],
   "source": [
    "s_fault_data = s_fault_data[s_fault_data['label'].isin([0, 1, 2, 3])]"
   ],
   "metadata": {
    "collapsed": false,
    "ExecuteTime": {
     "end_time": "2023-12-02T03:06:13.769922400Z",
     "start_time": "2023-12-02T03:06:13.738199900Z"
    }
   },
   "id": "bf52674fd1089bf4"
  },
  {
   "cell_type": "code",
   "execution_count": 13,
   "outputs": [
    {
     "name": "stderr",
     "output_type": "stream",
     "text": [
      "C:\\Users\\hhz\\AppData\\Local\\Temp\\ipykernel_8760\\3091150995.py:1: SettingWithCopyWarning: \n",
      "A value is trying to be set on a copy of a slice from a DataFrame.\n",
      "Try using .loc[row_indexer,col_indexer] = value instead\n",
      "\n",
      "See the caveats in the documentation: https://pandas.pydata.org/pandas-docs/stable/user_guide/indexing.html#returning-a-view-versus-a-copy\n",
      "  t_fault_data['label'] = t_fault_data['label'].apply(lambda x: 4 if x not in [0, 1, 2, 3] else x)\n"
     ]
    }
   ],
   "source": [
    "t_fault_data['label'] = t_fault_data['label'].apply(lambda x: 4 if x not in [0, 1, 2, 3] else x)"
   ],
   "metadata": {
    "collapsed": false,
    "ExecuteTime": {
     "end_time": "2023-12-02T03:06:17.460305700Z",
     "start_time": "2023-12-02T03:06:17.450306200Z"
    }
   },
   "id": "a8a7688d17b5ace1"
  },
  {
   "cell_type": "code",
   "execution_count": 14,
   "outputs": [],
   "source": [
    "s_fault_data.to_csv('data_chiller/ODA/source_40_obda.csv')\n",
    "t_fault_data.to_csv('data_chiller/ODA/target_50_obda.csv')"
   ],
   "metadata": {
    "collapsed": false,
    "ExecuteTime": {
     "end_time": "2023-12-02T03:06:20.697124600Z",
     "start_time": "2023-12-02T03:06:20.196333700Z"
    }
   },
   "id": "bb224168ad8de6c0"
  },
  {
   "cell_type": "markdown",
   "source": [],
   "metadata": {
    "collapsed": false
   },
   "id": "29455ead6b576faa"
  },
  {
   "cell_type": "code",
   "execution_count": 19,
   "outputs": [
    {
     "data": {
      "text/plain": "Empty DataFrame\nColumns: [TWE_set, TEI, TWEI, TEO, TWEO, TCI, TWCI, TCO, TWCO, TSI, TSO, TBI, TBO, Cond Tons, Cooling Tons, Shared Cond Tons, Cond Energy Balance, Evap Tons, Shared Evap Tons, Building Tons, Evap Energy Balance, kW, COP, kW/Ton, FWC, FWE, TEA, TCA, TRE, PRE, TRC, PRC, TRC_sub, T_suc, Tsh_suc, TR_dis, Tsh_dis, P_lift, Amps, RLA%, Heat Balance%, Tolerance%, Unit Status, Active Fault, TO_sump, TO_feed, PO_feed, PO_net, TWCD, TWED, VSS, VSL, VH, VM, VC, VE, VW, TWI, TWO, THI, THO, FWW, FWH, FWB, label]\nIndex: []\n\n[0 rows x 65 columns]",
      "text/html": "<div>\n<style scoped>\n    .dataframe tbody tr th:only-of-type {\n        vertical-align: middle;\n    }\n\n    .dataframe tbody tr th {\n        vertical-align: top;\n    }\n\n    .dataframe thead th {\n        text-align: right;\n    }\n</style>\n<table border=\"1\" class=\"dataframe\">\n  <thead>\n    <tr style=\"text-align: right;\">\n      <th></th>\n      <th>TWE_set</th>\n      <th>TEI</th>\n      <th>TWEI</th>\n      <th>TEO</th>\n      <th>TWEO</th>\n      <th>TCI</th>\n      <th>TWCI</th>\n      <th>TCO</th>\n      <th>TWCO</th>\n      <th>TSI</th>\n      <th>...</th>\n      <th>VE</th>\n      <th>VW</th>\n      <th>TWI</th>\n      <th>TWO</th>\n      <th>THI</th>\n      <th>THO</th>\n      <th>FWW</th>\n      <th>FWH</th>\n      <th>FWB</th>\n      <th>label</th>\n    </tr>\n  </thead>\n  <tbody>\n  </tbody>\n</table>\n<p>0 rows × 65 columns</p>\n</div>"
     },
     "execution_count": 19,
     "metadata": {},
     "output_type": "execute_result"
    }
   ],
   "source": [
    "s_fault_data"
   ],
   "metadata": {
    "collapsed": false,
    "ExecuteTime": {
     "end_time": "2023-11-30T13:21:14.426869900Z",
     "start_time": "2023-11-30T13:21:14.366731Z"
    }
   },
   "id": "f59e67694e797634"
  },
  {
   "cell_type": "code",
   "execution_count": 9,
   "outputs": [],
   "source": [
    "#ODA\n",
    "for domain in [40, 45, 50]:\n",
    "    s_fault_data = pd.read_csv('data_chiller/data_res_feature/fault_data_{}.csv'.format(domain))\n",
    "    t_fault_data = pd.read_csv('data_chiller/data_res_feature/fault_data_{}.csv'.format(domain))\n",
    "    s_fault_data = s_fault_data[s_fault_data['label'].isin([0, 1, 2])]\n",
    "    t_fault_data['label'] = t_fault_data['label'].apply(lambda x: 3 if x not in [0, 1, 2] else x)\n",
    "    s_fault_data.to_csv('data_chiller/ODA/source_{}_obda.csv'.format(domain))\n",
    "    t_fault_data.to_csv('data_chiller/ODA/target_{}_obda.csv'.format(domain))"
   ],
   "metadata": {
    "collapsed": false,
    "ExecuteTime": {
     "end_time": "2024-01-21T07:57:15.621568400Z",
     "start_time": "2024-01-21T07:57:14.011894900Z"
    }
   },
   "id": "1f89929ba011730a"
  },
  {
   "cell_type": "code",
   "execution_count": 10,
   "outputs": [],
   "source": [
    "s_fault_data = s_fault_data[s_fault_data['label'].isin([0, 1, 2, 3])]\n",
    "t_fault_data['label'] = t_fault_data['label'].apply(lambda x: 4 if x not in [0, 1, 2, 3] else x)\n",
    "\n",
    "# s_fault_data.to_csv('data_chiller/ODA/source_45_obda.csv')\n",
    "t_fault_data.to_csv('data_chiller/ODA/target_45_obda.csv')"
   ],
   "metadata": {
    "collapsed": false,
    "ExecuteTime": {
     "end_time": "2023-12-01T07:18:59.093333200Z",
     "start_time": "2023-12-01T07:18:58.848881600Z"
    }
   },
   "id": "cd53cfd384d2514b"
  },
  {
   "cell_type": "code",
   "execution_count": 31,
   "outputs": [],
   "source": [
    "# PDA\n",
    "s_fault_data = pd.read_csv('data_chiller/data_res_feature/fault_data_40.csv')\n",
    "t_fault_data = pd.read_csv('data_chiller/data_res_feature/fault_data_50.csv')\n",
    "\n",
    "t_fault_data = t_fault_data[t_fault_data['label'].isin([0, 1, 2, 3, 4, 5])]\n",
    "\n",
    "s_fault_data.to_csv('data_chiller/PDA/source_40_pda.csv')\n",
    "t_fault_data.to_csv('data_chiller/PDA/target_50_pda.csv')"
   ],
   "metadata": {
    "collapsed": false,
    "ExecuteTime": {
     "end_time": "2023-11-26T13:51:31.708758100Z",
     "start_time": "2023-11-26T13:51:30.961030Z"
    }
   },
   "id": "4d3d547861abbb92"
  },
  {
   "cell_type": "code",
   "execution_count": 67,
   "outputs": [],
   "source": [
    "#OPDA\n",
    "s_fault_data = pd.read_csv('data_chiller/data_res_feature/fault_data_50.csv')\n",
    "t_fault_data = pd.read_csv('data_chiller/data_res_feature/fault_data_45.csv')"
   ],
   "metadata": {
    "collapsed": false,
    "ExecuteTime": {
     "end_time": "2023-11-28T12:17:00.917190100Z",
     "start_time": "2023-11-28T12:17:00.791925100Z"
    }
   },
   "id": "d68942cdc832165f"
  },
  {
   "cell_type": "code",
   "execution_count": 68,
   "outputs": [],
   "source": [
    "s_fault_data = s_fault_data[s_fault_data['label'].isin([0, 1, 2, 3, 4, 5])]\n",
    "t_fault_data['label'] = t_fault_data['label'].apply(lambda x: 6 if x not in [0, 1, 2] else x)"
   ],
   "metadata": {
    "collapsed": false,
    "ExecuteTime": {
     "end_time": "2023-11-28T12:17:04.193117Z",
     "start_time": "2023-11-28T12:17:04.168757400Z"
    }
   },
   "id": "af38b95c2e8b488b"
  },
  {
   "cell_type": "code",
   "execution_count": 69,
   "outputs": [],
   "source": [
    "s_fault_data.to_csv('data_chiller/OPDA/source_50_opda.csv')\n",
    "t_fault_data.to_csv('data_chiller/OPDA/target_45_opda.csv')"
   ],
   "metadata": {
    "collapsed": false,
    "ExecuteTime": {
     "end_time": "2023-11-28T12:17:07.978573600Z",
     "start_time": "2023-11-28T12:17:07.426155600Z"
    }
   },
   "id": "dadd2c769ac3eaf"
  },
  {
   "cell_type": "code",
   "execution_count": 12,
   "outputs": [],
   "source": [
    "for domain in [40, 45, 50]:\n",
    "    s_fault_data = pd.read_csv('data_chiller/data_res_feature/fault_data_{}.csv'.format(domain))\n",
    "    t_fault_data = pd.read_csv('data_chiller/data_res_feature/fault_data_{}.csv'.format(domain))\n",
    "    s_fault_data = s_fault_data[s_fault_data['label'].isin([0, 1, 2, 3, 4])]\n",
    "    t_fault_data= t_fault_data[t_fault_data['label'].isin([0, 1, 2, 5, 6, 7])]\n",
    "    t_fault_data['label'] = t_fault_data['label'].apply(lambda x: 5 if x not in [0, 1, 2] else x)\n",
    "    # s_fault_data = s_fault_data[s_fault_data['label'].isin([0, 1, 2, 3, 4, 5])]\n",
    "    # t_fault_data['label'] = t_fault_data['label'].apply(lambda x: 6 if x not in [0, 1, 2] else x)\n",
    "    s_fault_data.to_csv('data_chiller/OPDA/source_{}_opda.csv'.format(domain))\n",
    "    t_fault_data.to_csv('data_chiller/OPDA/target_{}_opda.csv'.format(domain))"
   ],
   "metadata": {
    "collapsed": false,
    "ExecuteTime": {
     "end_time": "2024-01-22T13:09:10.374381500Z",
     "start_time": "2024-01-22T13:09:08.005936100Z"
    }
   },
   "id": "d640acc3284dde96"
  },
  {
   "cell_type": "code",
   "execution_count": 53,
   "outputs": [],
   "source": [
    "#CDA\n",
    "s_fault_data = pd.read_csv('data_chiller/data_res_feature/fault_data_50.csv')\n",
    "t_fault_data = pd.read_csv('data_chiller/data_res_feature/fault_data_40.csv')\n",
    "s_fault_data.to_csv('data_chiller/CDA/source_50_cda.csv')\n",
    "t_fault_data.to_csv('data_chiller/CDA/target_40_cda.csv')"
   ],
   "metadata": {
    "collapsed": false,
    "ExecuteTime": {
     "end_time": "2023-11-28T08:51:24.919342200Z",
     "start_time": "2023-11-28T08:51:24.136617500Z"
    }
   },
   "id": "742acf5db33cc89f"
  },
  {
   "cell_type": "code",
   "execution_count": 51,
   "outputs": [],
   "source": [],
   "metadata": {
    "collapsed": false,
    "ExecuteTime": {
     "end_time": "2023-11-28T08:35:44.209752400Z",
     "start_time": "2023-11-28T08:35:43.494670700Z"
    }
   },
   "id": "5a2630cbc1b7b5c"
  },
  {
   "cell_type": "code",
   "outputs": [],
   "source": [],
   "metadata": {
    "collapsed": false
   },
   "id": "cec72670c5a6373d",
   "execution_count": null
  }
 ],
 "metadata": {
  "kernelspec": {
   "display_name": "Python 3",
   "language": "python",
   "name": "python3"
  },
  "language_info": {
   "codemirror_mode": {
    "name": "ipython",
    "version": 2
   },
   "file_extension": ".py",
   "mimetype": "text/x-python",
   "name": "python",
   "nbconvert_exporter": "python",
   "pygments_lexer": "ipython2",
   "version": "2.7.6"
  }
 },
 "nbformat": 4,
 "nbformat_minor": 5
}
